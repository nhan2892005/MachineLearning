{
 "cells": [
  {
   "cell_type": "markdown",
   "metadata": {},
   "source": [
    "# What's Jupyter Notebooks\n",
    "read that: https://docs.jupyter.org/en/latest/\n",
    "# Set up Jupyter Notebooks in VSCode\n",
    "https://code.visualstudio.com/docs/datascience/jupyter-notebooks\n",
    "\n",
    "`Recommend: UNIX OS or WSL2`\n",
    "\n",
    "`Languages for ML: Python, R, Matlab,...`\n"
   ]
  },
  {
   "cell_type": "markdown",
   "metadata": {},
   "source": [
    "# Python Basics"
   ]
  },
  {
   "cell_type": "code",
   "execution_count": 3,
   "metadata": {},
   "outputs": [
    {
     "name": "stdout",
     "output_type": "stream",
     "text": [
      "Hello, World!\n"
     ]
    }
   ],
   "source": [
    "print(\"Hello, World!\")"
   ]
  },
  {
   "cell_type": "markdown",
   "metadata": {},
   "source": [
    "## Data Type\n",
    "|Category:\t        |Data Type                      |\n",
    "|-------------------|-------------------------------|\n",
    "|Text Type:\t        |str                            |\n",
    "|Numeric Types:     |int, float, complex            |\n",
    "|Sequence Types:    |list, tuple, range             |\n",
    "|Mapping Type:\t    |dict                           |\n",
    "|Set Types:         |set, frozenset                 |\n",
    "|Boolean Type:\t    |bool                           |\n",
    "|Binary Types:\t    |bytes, bytearray, memoryview   |\n",
    "|None Type:         |NoneType                       |"
   ]
  },
  {
   "cell_type": "code",
   "execution_count": 9,
   "metadata": {},
   "outputs": [
    {
     "name": "stdout",
     "output_type": "stream",
     "text": [
      "Hello, World! , type(x) =  <class 'str'>\n",
      "20 , type(x) =  <class 'int'>\n",
      "20.5 , type(x) =  <class 'float'>\n",
      "1j , type(x) =  <class 'complex'>\n",
      "['apple', 'banana', 'cherry'] , type(x) =  <class 'list'>\n",
      "('apple', 'banana', 'cherry') , type(x) =  <class 'tuple'>\n",
      "range(0, 6) , type(x) =  <class 'range'>\n",
      "{'name': 'John', 'age': 36} , type(x) =  <class 'dict'>\n",
      "{'banana', 'cherry', 'apple'} , type(x) =  <class 'set'>\n",
      "frozenset({'banana', 'cherry', 'apple'}) , type(x) =  <class 'frozenset'>\n",
      "True , type(x) =  <class 'bool'>\n",
      "b'Hello' , type(x) =  <class 'bytes'>\n",
      "bytearray(b'\\x00\\x00\\x00\\x00\\x00') , type(x) =  <class 'bytearray'>\n",
      "<memory at 0x7faec053c400> , type(x) =  <class 'memoryview'>\n",
      "None , type(x) =  <class 'NoneType'>\n"
     ]
    }
   ],
   "source": [
    "def getType(x):\n",
    "    print(x, \", type(x) = \", type(x))\n",
    "\n",
    "getType(\"Hello, World!\") # <class 'str'>\n",
    "getType(20) # <class 'int'>\n",
    "getType(20.5) # <class 'float'>\n",
    "getType(1j) # <class 'complex'>\n",
    "getType([\"apple\", \"banana\", \"cherry\"]) # <class 'list'>\n",
    "getType((\"apple\", \"banana\", \"cherry\")) # <class 'tuple'>\n",
    "getType(range(6)) # <class 'range'>\n",
    "getType({\"name\" : \"John\", \"age\" : 36}) # <class 'dict'>\n",
    "getType({\"apple\", \"banana\", \"cherry\"}) # <class 'set'>\n",
    "getType(frozenset({\"apple\", \"banana\", \"cherry\"})) # <class 'frozenset'>\n",
    "getType(True) # <class 'bool'>\n",
    "getType(b\"Hello\") # <class 'bytes'>\n",
    "getType(bytearray(5)) # <class 'bytearray'>\n",
    "getType(memoryview(bytes(5))) # <class 'memoryview'>\n",
    "getType(None) # <class 'NoneType'>\n"
   ]
  },
  {
   "cell_type": "markdown",
   "metadata": {},
   "source": [
    "### String"
   ]
  },
  {
   "cell_type": "code",
   "execution_count": 17,
   "metadata": {},
   "outputs": [
    {
     "name": "stdout",
     "output_type": "stream",
     "text": [
      "x: Hello, World!\n",
      "x[7]: W\n",
      "length of string:  13\n",
      "Yes, 'World' is present in the string\n",
      "Slicing\n",
      "Substring from idx 3 to 9 is x[3:9] = lo, Wo\n",
      "Substring from start to idx 9 is x[:9] = Hello, Wo\n",
      "Substring from idx 3 to the end is x[3:] = lo, World!\n",
      "orl\n",
      "\n",
      "Modify Strings\n",
      "Upper case:  HELLO, WORLD!\n",
      "Lower case:  hello, world!\n",
      "Remove white spaces:  Hello, World!\n",
      "Replace:  Jello, World!\n",
      "Split:  ['Hello', ' World!']\n",
      "Refference:  https://www.w3schools.com/python/python_ref_string.asp\n",
      "\n",
      "F-Strings\n",
      "The price is 59 dollars\n",
      "The price is 59 dollars\n",
      "The price is 20.00 dollars\n",
      "Escape Characters\n",
      "Refference:  https://www.w3schools.com/python/python_strings_escape.asp\n"
     ]
    }
   ],
   "source": [
    "# String\n",
    "x = \"Hello, World!\"\n",
    "x = 'Hello, World!'\n",
    "\n",
    "# Quotes inside Quotes\n",
    "x = \"Hello, 'World'!\"\n",
    "x = 'Hello, \"World\"!'\n",
    "\n",
    "## Multiline Strings\n",
    "x = \"\"\" Lorem ipsum dolor sit amet,\n",
    "        consectetur adipiscing elit,\n",
    "        sed do eiusmod tempor incididunt ut labore et dolore magna aliqua.\"\"\"\n",
    "\n",
    "# or single quotes\n",
    "x = ''' Lorem ipsum dolor sit amet,\n",
    "        consectetur adipiscing elit,\n",
    "        sed do eiusmod tempor incididunt ut labore et dolore magna aliqua.'''\n",
    "\n",
    "# Strings are Arrays\n",
    "x = \"Hello, World!\"\n",
    "print(\"x:\", x)\n",
    "print(\"x[7]:\", x[7]) \n",
    "\n",
    "# Methods\n",
    "## get length\n",
    "print(\"length of string: \", len(x))\n",
    "\n",
    "## check string contains substring\n",
    "if 'World' in x:\n",
    "    print(\"Yes, 'World' is present in the string\")\n",
    "\n",
    "# or not\n",
    "if 'World' not in x:\n",
    "    print(\"No, 'World' is not present in the string\")\n",
    "\n",
    "print(\"Slicing\")\n",
    "## Slicing\n",
    "print(\"Substring from idx 3 to 9 is x[3:9] =\", x[3:9])\n",
    "### from start\n",
    "print(\"Substring from start to idx 9 is x[:9] =\", x[:9])\n",
    "### to end\n",
    "print(\"Substring from idx 3 to the end is x[3:] =\", x[3:])\n",
    "### negative indexing\n",
    "print(x[-5:-2])\n",
    "print()\n",
    "\n",
    "\n",
    "## Modify Strings\n",
    "print(\"Modify Strings\")\n",
    "## Upper case\n",
    "print(\"Upper case: \", x.upper())\n",
    "## Lower case\n",
    "print(\"Lower case: \", x.lower())\n",
    "## Remove white spaces\n",
    "print(\"Remove white spaces: \", x.strip())\n",
    "## Replace\n",
    "print(\"Replace: \", x.replace(\"H\", \"J\"))\n",
    "## Split\n",
    "print(\"Split: \", x.split(\",\"))\n",
    "print(\"Refference: \", 'https://www.w3schools.com/python/python_ref_string.asp')\n",
    "print()\n",
    "\n",
    "## Format Strings\n",
    "print('F-Strings')\n",
    "price = 59\n",
    "print(f\"The price is {price} dollars\")\n",
    "# or\n",
    "print(\"The price is {} dollars\".format(price))\n",
    "# or\n",
    "print(\"The price is {price:.2f} dollars\".format(price=20))\n",
    "print()\n",
    "\n",
    "## Escape Characters\n",
    "print(\"Escape Characters\")\n",
    "print(\"Refference: \", 'https://www.w3schools.com/python/python_strings_escape.asp')\n"
   ]
  },
  {
   "cell_type": "markdown",
   "metadata": {},
   "source": [
    "# Get more in: [Python Tutorial by Web3School](https://www.w3schools.com/python/default.asp)"
   ]
  }
 ],
 "metadata": {
  "kernelspec": {
   "display_name": "Python 3",
   "language": "python",
   "name": "python3"
  },
  "language_info": {
   "codemirror_mode": {
    "name": "ipython",
    "version": 3
   },
   "file_extension": ".py",
   "mimetype": "text/x-python",
   "name": "python",
   "nbconvert_exporter": "python",
   "pygments_lexer": "ipython3",
   "version": "3.10.12"
  }
 },
 "nbformat": 4,
 "nbformat_minor": 2
}
